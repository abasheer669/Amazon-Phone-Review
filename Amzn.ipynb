{
  "nbformat": 4,
  "nbformat_minor": 0,
  "metadata": {
    "colab": {
      "name": "Untitled1.ipynb",
      "provenance": [],
      "collapsed_sections": [
        "EZq_JkuCLNLk"
      ]
    },
    "kernelspec": {
      "name": "python3",
      "display_name": "Python 3"
    }
  },
  "cells": [
    {
      "cell_type": "code",
      "metadata": {
        "id": "bl4qx8h5yoYq"
      },
      "source": [
        "import pandas as pd\n",
        "import numpy as np\n",
        "from textblob import TextBlob\n",
        "import re\n",
        "#pd.set_option(\"display.max_rows\", None, \"display.max_columns\", None)"
      ],
      "execution_count": null,
      "outputs": []
    },
    {
      "cell_type": "code",
      "metadata": {
        "id": "bdOTjqQWzT8H",
        "outputId": "9e520045-885f-4162-c8c7-e64348ec136d",
        "colab": {
          "base_uri": "https://localhost:8080/"
        }
      },
      "source": [
        "!ls\n",
        "data=pd.read_csv('amazon_phone_dataset.csv')"
      ],
      "execution_count": 14,
      "outputs": [
        {
          "output_type": "stream",
          "text": [
            "amazon_phone_dataset.csv  sample_data\n"
          ],
          "name": "stdout"
        }
      ]
    },
    {
      "cell_type": "markdown",
      "metadata": {
        "id": "Y40WZQEOZmfU"
      },
      "source": [
        "# Data Details"
      ]
    },
    {
      "cell_type": "code",
      "metadata": {
        "id": "7grm7batZq8H",
        "outputId": "ec649e10-d0c0-4156-f4a3-63173bbc6e81",
        "colab": {
          "base_uri": "https://localhost:8080/"
        }
      },
      "source": [
        "data.info()"
      ],
      "execution_count": 17,
      "outputs": [
        {
          "output_type": "stream",
          "text": [
            "<class 'pandas.core.frame.DataFrame'>\n",
            "RangeIndex: 9570 entries, 0 to 9569\n",
            "Data columns (total 11 columns):\n",
            " #   Column         Non-Null Count  Dtype \n",
            "---  ------         --------------  ----- \n",
            " 0   Product_name   4176 non-null   object\n",
            " 1   by_info        4167 non-null   object\n",
            " 2   Product_url    9570 non-null   object\n",
            " 3   Product_img    2935 non-null   object\n",
            " 4   Product_price  2926 non-null   object\n",
            " 5   rating         3439 non-null   object\n",
            " 6   total_review   3441 non-null   object\n",
            " 7   ans_ask        2349 non-null   object\n",
            " 8   prod_des       3414 non-null   object\n",
            " 9   feature        4157 non-null   object\n",
            " 10  cust_review    3442 non-null   object\n",
            "dtypes: object(11)\n",
            "memory usage: 822.5+ KB\n"
          ],
          "name": "stdout"
        }
      ]
    },
    {
      "cell_type": "code",
      "metadata": {
        "id": "38YErg6MZq-l",
        "outputId": "9d165735-a5db-4ec6-d0e8-b281b734079d",
        "colab": {
          "base_uri": "https://localhost:8080/",
          "height": 207
        }
      },
      "source": [
        "data.describe()"
      ],
      "execution_count": null,
      "outputs": [
        {
          "output_type": "execute_result",
          "data": {
            "text/html": [
              "<div>\n",
              "<style scoped>\n",
              "    .dataframe tbody tr th:only-of-type {\n",
              "        vertical-align: middle;\n",
              "    }\n",
              "\n",
              "    .dataframe tbody tr th {\n",
              "        vertical-align: top;\n",
              "    }\n",
              "\n",
              "    .dataframe thead th {\n",
              "        text-align: right;\n",
              "    }\n",
              "</style>\n",
              "<table border=\"1\" class=\"dataframe\">\n",
              "  <thead>\n",
              "    <tr style=\"text-align: right;\">\n",
              "      <th></th>\n",
              "      <th>Product_name</th>\n",
              "      <th>by_info</th>\n",
              "      <th>Product_url</th>\n",
              "      <th>Product_img</th>\n",
              "      <th>Product_price</th>\n",
              "      <th>rating</th>\n",
              "      <th>total_review</th>\n",
              "      <th>ans_ask</th>\n",
              "      <th>prod_des</th>\n",
              "      <th>feature</th>\n",
              "      <th>cust_review</th>\n",
              "    </tr>\n",
              "  </thead>\n",
              "  <tbody>\n",
              "    <tr>\n",
              "      <th>count</th>\n",
              "      <td>4176</td>\n",
              "      <td>4167</td>\n",
              "      <td>9570</td>\n",
              "      <td>2935</td>\n",
              "      <td>2926</td>\n",
              "      <td>3439</td>\n",
              "      <td>3441</td>\n",
              "      <td>2349</td>\n",
              "      <td>3414</td>\n",
              "      <td>4157</td>\n",
              "      <td>3442</td>\n",
              "    </tr>\n",
              "    <tr>\n",
              "      <th>unique</th>\n",
              "      <td>3607</td>\n",
              "      <td>1235</td>\n",
              "      <td>9568</td>\n",
              "      <td>2420</td>\n",
              "      <td>812</td>\n",
              "      <td>45</td>\n",
              "      <td>572</td>\n",
              "      <td>357</td>\n",
              "      <td>2428</td>\n",
              "      <td>3118</td>\n",
              "      <td>2556</td>\n",
              "    </tr>\n",
              "    <tr>\n",
              "      <th>top</th>\n",
              "      <td>Smart Fitness Band, Muzili Activity Tracker wi...</td>\n",
              "      <td>Amazon Renewed</td>\n",
              "      <td>TASLAR</td>\n",
              "      <td>https://images-na.ssl-images-amazon.com/images...</td>\n",
              "      <td>₹ 299.00</td>\n",
              "      <td>5.0 out of 5 stars</td>\n",
              "      <td>1 customer review</td>\n",
              "      <td>1000+ answered questions</td>\n",
              "      <td>This Renewed Product has been tested to work a...</td>\n",
              "      <td>NOTE : BUY FROM NKARTA TO GET ORIGINAL AND PRE...</td>\n",
              "      <td>Good***</td>\n",
              "    </tr>\n",
              "    <tr>\n",
              "      <th>freq</th>\n",
              "      <td>5</td>\n",
              "      <td>96</td>\n",
              "      <td>2</td>\n",
              "      <td>7</td>\n",
              "      <td>204</td>\n",
              "      <td>390</td>\n",
              "      <td>381</td>\n",
              "      <td>189</td>\n",
              "      <td>33</td>\n",
              "      <td>18</td>\n",
              "      <td>11</td>\n",
              "    </tr>\n",
              "  </tbody>\n",
              "</table>\n",
              "</div>"
            ],
            "text/plain": [
              "                                             Product_name  ... cust_review\n",
              "count                                                4176  ...        3442\n",
              "unique                                               3607  ...        2556\n",
              "top     Smart Fitness Band, Muzili Activity Tracker wi...  ...     Good***\n",
              "freq                                                    5  ...          11\n",
              "\n",
              "[4 rows x 11 columns]"
            ]
          },
          "metadata": {
            "tags": []
          },
          "execution_count": 4
        }
      ]
    },
    {
      "cell_type": "code",
      "metadata": {
        "id": "nqndiB5yzq6u",
        "outputId": "51b0e875-8f7b-40ee-c9ee-0ebfe9836d4a",
        "colab": {
          "base_uri": "https://localhost:8080/",
          "height": 374
        }
      },
      "source": [
        "data.head()"
      ],
      "execution_count": null,
      "outputs": [
        {
          "output_type": "execute_result",
          "data": {
            "text/html": [
              "<div>\n",
              "<style scoped>\n",
              "    .dataframe tbody tr th:only-of-type {\n",
              "        vertical-align: middle;\n",
              "    }\n",
              "\n",
              "    .dataframe tbody tr th {\n",
              "        vertical-align: top;\n",
              "    }\n",
              "\n",
              "    .dataframe thead th {\n",
              "        text-align: right;\n",
              "    }\n",
              "</style>\n",
              "<table border=\"1\" class=\"dataframe\">\n",
              "  <thead>\n",
              "    <tr style=\"text-align: right;\">\n",
              "      <th></th>\n",
              "      <th>Product_name</th>\n",
              "      <th>by_info</th>\n",
              "      <th>Product_url</th>\n",
              "      <th>Product_img</th>\n",
              "      <th>Product_price</th>\n",
              "      <th>rating</th>\n",
              "      <th>total_review</th>\n",
              "      <th>ans_ask</th>\n",
              "      <th>prod_des</th>\n",
              "      <th>feature</th>\n",
              "      <th>cust_review</th>\n",
              "    </tr>\n",
              "  </thead>\n",
              "  <tbody>\n",
              "    <tr>\n",
              "      <th>0</th>\n",
              "      <td>Samsung Galaxy M10 (Ocean Blue, 3+32GB)</td>\n",
              "      <td>Samsung</td>\n",
              "      <td>https://www.amazon.in/Samsung-Galaxy-Ocean-Blu...</td>\n",
              "      <td>https://images-na.ssl-images-amazon.com/images...</td>\n",
              "      <td>₹ 7,990.00</td>\n",
              "      <td>4.0 out of 5 stars</td>\n",
              "      <td>7,353 customer reviews</td>\n",
              "      <td>1000+ answered questions</td>\n",
              "      <td>The Samsung Galaxy M10 is especially created f...</td>\n",
              "      <td>13MP+5MP ultra-wide angle dual camera | 5MP f2...</td>\n",
              "      <td>Well, I was a bit sceptical before buying this...</td>\n",
              "    </tr>\n",
              "    <tr>\n",
              "      <th>1</th>\n",
              "      <td>Redmi 6 Pro (Black, 4GB RAM, 64GB Storage)</td>\n",
              "      <td>Mi</td>\n",
              "      <td>https://www.amazon.in/Redmi-Pro-Black-64GB-Sto...</td>\n",
              "      <td>https://images-na.ssl-images-amazon.com/images...</td>\n",
              "      <td>NaN</td>\n",
              "      <td>4.1 out of 5 stars</td>\n",
              "      <td>32,250 customer reviews</td>\n",
              "      <td>1000+ answered questions</td>\n",
              "      <td>Qualcomm Snapdragon 625, 2.0 GHz processor wit...</td>\n",
              "      <td>12MP+5MP dual rear camera | 5MP front facing c...</td>\n",
              "      <td>Display quality is top notch, overall the qual...</td>\n",
              "    </tr>\n",
              "    <tr>\n",
              "      <th>2</th>\n",
              "      <td>Coolpad Cool 3 Plus (Ocean Blue, 2GB RAM, 16GB...</td>\n",
              "      <td>Coolpad</td>\n",
              "      <td>https://www.amazon.in/Coolpad-Cool-Plus-Ocean-...</td>\n",
              "      <td>https://images-na.ssl-images-amazon.com/images...</td>\n",
              "      <td>₹ 5,999.00</td>\n",
              "      <td>3.1 out of 5 stars</td>\n",
              "      <td>76 customer reviews</td>\n",
              "      <td>69 answered questions</td>\n",
              "      <td>Coolpad Cool 3 Plus-Designed for all, 5.71'' H...</td>\n",
              "      <td>13MP primary camera with bokeh mode, timelapse...</td>\n",
              "      <td>Low bagget high kwality***It's not good Phone ...</td>\n",
              "    </tr>\n",
              "    <tr>\n",
              "      <th>3</th>\n",
              "      <td>Redmi 6 Pro (Black, 3GB RAM, 32GB Storage)</td>\n",
              "      <td>Mi</td>\n",
              "      <td>https://www.amazon.in/Redmi-Pro-Black-32GB-Sto...</td>\n",
              "      <td>https://images-na.ssl-images-amazon.com/images...</td>\n",
              "      <td>NaN</td>\n",
              "      <td>4.1 out of 5 stars</td>\n",
              "      <td>32,250 customer reviews</td>\n",
              "      <td>1000+ answered questions</td>\n",
              "      <td>Qualcomm Snapdragon 625, 2.0 GHz processor wit...</td>\n",
              "      <td>12MP+5MP dual rear camera | 5MP front facing c...</td>\n",
              "      <td>Display quality is top notch, overall the qual...</td>\n",
              "    </tr>\n",
              "    <tr>\n",
              "      <th>4</th>\n",
              "      <td>Nokia 105 (Black)</td>\n",
              "      <td>Nokia</td>\n",
              "      <td>https://www.amazon.in/Nokia-105-Black/dp/B0745...</td>\n",
              "      <td>https://images-na.ssl-images-amazon.com/images...</td>\n",
              "      <td>NaN</td>\n",
              "      <td>4.1 out of 5 stars</td>\n",
              "      <td>6,474 customer reviews</td>\n",
              "      <td>1000+ answered questions</td>\n",
              "      <td>The design Shaped for your palm Featuring a cu...</td>\n",
              "      <td>4.572 centimeters (1.8-inch) display with 240 ...</td>\n",
              "      <td>Using the mobile phone for last 3 months. I am...</td>\n",
              "    </tr>\n",
              "  </tbody>\n",
              "</table>\n",
              "</div>"
            ],
            "text/plain": [
              "                                        Product_name  ...                                        cust_review\n",
              "0            Samsung Galaxy M10 (Ocean Blue, 3+32GB)  ...  Well, I was a bit sceptical before buying this...\n",
              "1         Redmi 6 Pro (Black, 4GB RAM, 64GB Storage)  ...  Display quality is top notch, overall the qual...\n",
              "2  Coolpad Cool 3 Plus (Ocean Blue, 2GB RAM, 16GB...  ...  Low bagget high kwality***It's not good Phone ...\n",
              "3         Redmi 6 Pro (Black, 3GB RAM, 32GB Storage)  ...  Display quality is top notch, overall the qual...\n",
              "4                                  Nokia 105 (Black)  ...  Using the mobile phone for last 3 months. I am...\n",
              "\n",
              "[5 rows x 11 columns]"
            ]
          },
          "metadata": {
            "tags": []
          },
          "execution_count": 5
        }
      ]
    },
    {
      "cell_type": "markdown",
      "metadata": {
        "id": "EZq_JkuCLNLk"
      },
      "source": [
        "# Preprocessing"
      ]
    },
    {
      "cell_type": "code",
      "metadata": {
        "id": "jb6MPlwgQklk"
      },
      "source": [
        "def checkfloat(data):\n",
        "  try:\n",
        "    float(data)\n",
        "    return True\n",
        "  except:\n",
        "    return False"
      ],
      "execution_count": 18,
      "outputs": []
    },
    {
      "cell_type": "code",
      "metadata": {
        "id": "5JXxyEgN3mxo"
      },
      "source": [
        "data.drop(['Product_url','Product_img','prod_des'],axis=1,inplace=True)"
      ],
      "execution_count": 19,
      "outputs": []
    },
    {
      "cell_type": "code",
      "metadata": {
        "id": "gM4G2fKu8_IE"
      },
      "source": [
        "data.dropna(inplace=True)"
      ],
      "execution_count": 20,
      "outputs": []
    },
    {
      "cell_type": "code",
      "metadata": {
        "id": "ezDwuq1P9Jb1"
      },
      "source": [
        "data.Product_price=data.Product_price.apply(lambda x:x[1:].replace(',',''))\n",
        "data=data[data.Product_price.apply(checkfloat)]"
      ],
      "execution_count": 21,
      "outputs": []
    },
    {
      "cell_type": "code",
      "metadata": {
        "id": "cpTXzH9S8qf2"
      },
      "source": [
        "data.rating=data.rating.apply(lambda x:x.split(' ')[0].replace(',',''))\n",
        "data=data[data.rating.apply(checkfloat)]"
      ],
      "execution_count": 22,
      "outputs": []
    },
    {
      "cell_type": "code",
      "metadata": {
        "id": "eOcf1Q_Z9zdC"
      },
      "source": [
        "data.total_review=data.total_review.apply(lambda x:x.split(' ')[0].replace(',',''))"
      ],
      "execution_count": 23,
      "outputs": []
    },
    {
      "cell_type": "code",
      "metadata": {
        "id": "jmi-Jgzu9I0U"
      },
      "source": [
        "data.ans_ask=data.ans_ask.apply(lambda x:x.split(' ')[0].replace(',','') if (x.split(' ')[0][-1]!='+') else x.split(' ')[0][:-1].replace(',',''))"
      ],
      "execution_count": 24,
      "outputs": []
    },
    {
      "cell_type": "code",
      "metadata": {
        "id": "RL1cst6hGhaX"
      },
      "source": [
        "data['Prod_name']=data['Product_name'].apply(lambda x:re.split('[()]',x)[0])\n",
        "data['Prod_details']=data['Product_name'].apply(lambda x: re.split('[()]',x)[1] if len(re.split('[()]',x))>1 else 'None')\n",
        "data.drop('Product_name',axis=1,inplace=True)"
      ],
      "execution_count": 25,
      "outputs": []
    },
    {
      "cell_type": "code",
      "metadata": {
        "id": "2bclA4bI_Tcl"
      },
      "source": [
        "data['cust_review_pol']=data.cust_review.apply(lambda x: TextBlob(x).sentiment.polarity)\n",
        "data['cust_review_sub']=data.cust_review.apply(lambda x: TextBlob(x).sentiment.subjectivity)\n",
        "data.drop('cust_review',axis=1,inplace=True)"
      ],
      "execution_count": 26,
      "outputs": []
    },
    {
      "cell_type": "code",
      "metadata": {
        "id": "hYhn0qPoMigu"
      },
      "source": [
        "cols=['Prod_name', 'Prod_details', 'by_info', 'Product_price', 'rating', 'total_review', 'ans_ask', 'feature', 'cust_review_pol', 'cust_review_sub']\n",
        "data=data[cols]\n",
        "\n",
        "floats=['Product_price', 'rating','cust_review_pol', 'cust_review_sub']\n",
        "data[floats]=data[floats].astype(float)\n",
        "\n",
        "ints=['total_review', 'ans_ask']\n",
        "data[ints]=data[ints].astype(int)"
      ],
      "execution_count": 27,
      "outputs": []
    },
    {
      "cell_type": "code",
      "metadata": {
        "id": "WdU_gnXeQA20",
        "outputId": "be61b54c-0992-4008-82d3-c9d6891d0d6b",
        "colab": {
          "base_uri": "https://localhost:8080/"
        }
      },
      "source": [
        "data.shape"
      ],
      "execution_count": 28,
      "outputs": [
        {
          "output_type": "execute_result",
          "data": {
            "text/plain": [
              "(1596, 10)"
            ]
          },
          "metadata": {
            "tags": []
          },
          "execution_count": 28
        }
      ]
    },
    {
      "cell_type": "markdown",
      "metadata": {
        "id": "mNmfYHprNFYG"
      },
      "source": [
        "# Data Details"
      ]
    },
    {
      "cell_type": "code",
      "metadata": {
        "id": "QUf8zJpMOZzz",
        "outputId": "8938a404-7cc3-4d13-f351-5bdece9606f2",
        "colab": {
          "base_uri": "https://localhost:8080/"
        }
      },
      "source": [
        "data.info()"
      ],
      "execution_count": null,
      "outputs": [
        {
          "output_type": "stream",
          "text": [
            "<class 'pandas.core.frame.DataFrame'>\n",
            "Int64Index: 1596 entries, 0 to 9566\n",
            "Data columns (total 10 columns):\n",
            " #   Column           Non-Null Count  Dtype  \n",
            "---  ------           --------------  -----  \n",
            " 0   Prod_name        1596 non-null   object \n",
            " 1   Prod_details     1596 non-null   object \n",
            " 2   by_info          1596 non-null   object \n",
            " 3   Product_price    1596 non-null   float64\n",
            " 4   rating           1596 non-null   float64\n",
            " 5   total_review     1596 non-null   int64  \n",
            " 6   ans_ask          1596 non-null   int64  \n",
            " 7   feature          1596 non-null   object \n",
            " 8   cust_review_pol  1596 non-null   float64\n",
            " 9   cust_review_sub  1596 non-null   float64\n",
            "dtypes: float64(4), int64(2), object(4)\n",
            "memory usage: 137.2+ KB\n"
          ],
          "name": "stdout"
        }
      ]
    },
    {
      "cell_type": "code",
      "metadata": {
        "id": "FH5jmqbjYUdc",
        "outputId": "37944260-22d6-46df-bdf9-91a65eb0d678",
        "colab": {
          "base_uri": "https://localhost:8080/",
          "height": 297
        }
      },
      "source": [
        "data.describe()"
      ],
      "execution_count": null,
      "outputs": [
        {
          "output_type": "execute_result",
          "data": {
            "text/html": [
              "<div>\n",
              "<style scoped>\n",
              "    .dataframe tbody tr th:only-of-type {\n",
              "        vertical-align: middle;\n",
              "    }\n",
              "\n",
              "    .dataframe tbody tr th {\n",
              "        vertical-align: top;\n",
              "    }\n",
              "\n",
              "    .dataframe thead th {\n",
              "        text-align: right;\n",
              "    }\n",
              "</style>\n",
              "<table border=\"1\" class=\"dataframe\">\n",
              "  <thead>\n",
              "    <tr style=\"text-align: right;\">\n",
              "      <th></th>\n",
              "      <th>Product_price</th>\n",
              "      <th>rating</th>\n",
              "      <th>total_review</th>\n",
              "      <th>ans_ask</th>\n",
              "      <th>cust_review_pol</th>\n",
              "      <th>cust_review_sub</th>\n",
              "    </tr>\n",
              "  </thead>\n",
              "  <tbody>\n",
              "    <tr>\n",
              "      <th>count</th>\n",
              "      <td>1596.000000</td>\n",
              "      <td>1596.000000</td>\n",
              "      <td>1596.000000</td>\n",
              "      <td>1596.000000</td>\n",
              "      <td>1596.000000</td>\n",
              "      <td>1596.000000</td>\n",
              "    </tr>\n",
              "    <tr>\n",
              "      <th>mean</th>\n",
              "      <td>3485.696084</td>\n",
              "      <td>3.639286</td>\n",
              "      <td>1086.221178</td>\n",
              "      <td>156.708020</td>\n",
              "      <td>0.219460</td>\n",
              "      <td>0.526447</td>\n",
              "    </tr>\n",
              "    <tr>\n",
              "      <th>std</th>\n",
              "      <td>8201.424093</td>\n",
              "      <td>0.693203</td>\n",
              "      <td>4264.085920</td>\n",
              "      <td>266.346026</td>\n",
              "      <td>0.184743</td>\n",
              "      <td>0.120228</td>\n",
              "    </tr>\n",
              "    <tr>\n",
              "      <th>min</th>\n",
              "      <td>70.000000</td>\n",
              "      <td>1.000000</td>\n",
              "      <td>1.000000</td>\n",
              "      <td>3.000000</td>\n",
              "      <td>-1.000000</td>\n",
              "      <td>0.000000</td>\n",
              "    </tr>\n",
              "    <tr>\n",
              "      <th>25%</th>\n",
              "      <td>399.000000</td>\n",
              "      <td>3.300000</td>\n",
              "      <td>12.750000</td>\n",
              "      <td>10.000000</td>\n",
              "      <td>0.136585</td>\n",
              "      <td>0.483712</td>\n",
              "    </tr>\n",
              "    <tr>\n",
              "      <th>50%</th>\n",
              "      <td>899.000000</td>\n",
              "      <td>3.700000</td>\n",
              "      <td>58.000000</td>\n",
              "      <td>40.000000</td>\n",
              "      <td>0.215198</td>\n",
              "      <td>0.526518</td>\n",
              "    </tr>\n",
              "    <tr>\n",
              "      <th>75%</th>\n",
              "      <td>3162.250000</td>\n",
              "      <td>4.100000</td>\n",
              "      <td>299.000000</td>\n",
              "      <td>152.000000</td>\n",
              "      <td>0.307639</td>\n",
              "      <td>0.578142</td>\n",
              "    </tr>\n",
              "    <tr>\n",
              "      <th>max</th>\n",
              "      <td>124500.000000</td>\n",
              "      <td>5.000000</td>\n",
              "      <td>49808.000000</td>\n",
              "      <td>1000.000000</td>\n",
              "      <td>1.000000</td>\n",
              "      <td>1.000000</td>\n",
              "    </tr>\n",
              "  </tbody>\n",
              "</table>\n",
              "</div>"
            ],
            "text/plain": [
              "       Product_price       rating  ...  cust_review_pol  cust_review_sub\n",
              "count    1596.000000  1596.000000  ...      1596.000000      1596.000000\n",
              "mean     3485.696084     3.639286  ...         0.219460         0.526447\n",
              "std      8201.424093     0.693203  ...         0.184743         0.120228\n",
              "min        70.000000     1.000000  ...        -1.000000         0.000000\n",
              "25%       399.000000     3.300000  ...         0.136585         0.483712\n",
              "50%       899.000000     3.700000  ...         0.215198         0.526518\n",
              "75%      3162.250000     4.100000  ...         0.307639         0.578142\n",
              "max    124500.000000     5.000000  ...         1.000000         1.000000\n",
              "\n",
              "[8 rows x 6 columns]"
            ]
          },
          "metadata": {
            "tags": []
          },
          "execution_count": 18
        }
      ]
    },
    {
      "cell_type": "code",
      "metadata": {
        "id": "xlIbhAMIYt0d",
        "outputId": "1f36ca1c-ac92-40ab-bbaf-91724457defc",
        "colab": {
          "base_uri": "https://localhost:8080/",
          "height": 289
        }
      },
      "source": [
        "data.head()"
      ],
      "execution_count": null,
      "outputs": [
        {
          "output_type": "execute_result",
          "data": {
            "text/html": [
              "<div>\n",
              "<style scoped>\n",
              "    .dataframe tbody tr th:only-of-type {\n",
              "        vertical-align: middle;\n",
              "    }\n",
              "\n",
              "    .dataframe tbody tr th {\n",
              "        vertical-align: top;\n",
              "    }\n",
              "\n",
              "    .dataframe thead th {\n",
              "        text-align: right;\n",
              "    }\n",
              "</style>\n",
              "<table border=\"1\" class=\"dataframe\">\n",
              "  <thead>\n",
              "    <tr style=\"text-align: right;\">\n",
              "      <th></th>\n",
              "      <th>Prod_name</th>\n",
              "      <th>Prod_details</th>\n",
              "      <th>by_info</th>\n",
              "      <th>Product_price</th>\n",
              "      <th>rating</th>\n",
              "      <th>total_review</th>\n",
              "      <th>ans_ask</th>\n",
              "      <th>feature</th>\n",
              "      <th>cust_review_pol</th>\n",
              "      <th>cust_review_sub</th>\n",
              "    </tr>\n",
              "  </thead>\n",
              "  <tbody>\n",
              "    <tr>\n",
              "      <th>0</th>\n",
              "      <td>Samsung Galaxy M10</td>\n",
              "      <td>Ocean Blue, 3+32GB</td>\n",
              "      <td>Samsung</td>\n",
              "      <td>7990.0</td>\n",
              "      <td>4.0</td>\n",
              "      <td>7353</td>\n",
              "      <td>1000</td>\n",
              "      <td>13MP+5MP ultra-wide angle dual camera | 5MP f2...</td>\n",
              "      <td>0.196513</td>\n",
              "      <td>0.538780</td>\n",
              "    </tr>\n",
              "    <tr>\n",
              "      <th>2</th>\n",
              "      <td>Coolpad Cool 3 Plus</td>\n",
              "      <td>Ocean Blue, 2GB RAM, 16GB Storage</td>\n",
              "      <td>Coolpad</td>\n",
              "      <td>5999.0</td>\n",
              "      <td>3.1</td>\n",
              "      <td>76</td>\n",
              "      <td>69</td>\n",
              "      <td>13MP primary camera with bokeh mode, timelapse...</td>\n",
              "      <td>-0.116477</td>\n",
              "      <td>0.529867</td>\n",
              "    </tr>\n",
              "    <tr>\n",
              "      <th>6</th>\n",
              "      <td>Coolpad Cool 3 Plus</td>\n",
              "      <td>Ocean Blue, 3GB RAM, 32GB Storage</td>\n",
              "      <td>Coolpad</td>\n",
              "      <td>6499.0</td>\n",
              "      <td>3.1</td>\n",
              "      <td>76</td>\n",
              "      <td>69</td>\n",
              "      <td>13MP primary camera with bokeh mode, timelapse...</td>\n",
              "      <td>-0.116477</td>\n",
              "      <td>0.529867</td>\n",
              "    </tr>\n",
              "    <tr>\n",
              "      <th>14</th>\n",
              "      <td>Xifo I Smart IS-59I 4G Smartphone Model</td>\n",
              "      <td>Jio 4G Sim Not Supported</td>\n",
              "      <td>Xifo</td>\n",
              "      <td>3290.0</td>\n",
              "      <td>1.4</td>\n",
              "      <td>8</td>\n",
              "      <td>4</td>\n",
              "      <td>5.7-inch Full HD IPS Display, 1280x720 Pixels1...</td>\n",
              "      <td>-0.214000</td>\n",
              "      <td>0.458222</td>\n",
              "    </tr>\n",
              "    <tr>\n",
              "      <th>19</th>\n",
              "      <td>Redmi Y2</td>\n",
              "      <td>Black, 3GB RAM, 32GB Storage</td>\n",
              "      <td>Redmi</td>\n",
              "      <td>8440.0</td>\n",
              "      <td>4.3</td>\n",
              "      <td>26749</td>\n",
              "      <td>1000</td>\n",
              "      <td>Camera: 12+5 MP Dual rear camera | 16 MP front...</td>\n",
              "      <td>0.320134</td>\n",
              "      <td>0.513045</td>\n",
              "    </tr>\n",
              "  </tbody>\n",
              "</table>\n",
              "</div>"
            ],
            "text/plain": [
              "                                   Prod_name  ... cust_review_sub\n",
              "0                        Samsung Galaxy M10   ...        0.538780\n",
              "2                       Coolpad Cool 3 Plus   ...        0.529867\n",
              "6                       Coolpad Cool 3 Plus   ...        0.529867\n",
              "14  Xifo I Smart IS-59I 4G Smartphone Model   ...        0.458222\n",
              "19                                 Redmi Y2   ...        0.513045\n",
              "\n",
              "[5 rows x 10 columns]"
            ]
          },
          "metadata": {
            "tags": []
          },
          "execution_count": 19
        }
      ]
    },
    {
      "cell_type": "markdown",
      "metadata": {
        "id": "XOl8aZXLbf5V"
      },
      "source": [
        "# Column Details"
      ]
    },
    {
      "cell_type": "markdown",
      "metadata": {
        "id": "pFV6NNNTbjIr"
      },
      "source": [
        "Prod_name : Product's Name"
      ]
    },
    {
      "cell_type": "markdown",
      "metadata": {
        "id": "aXyfYwvWbm3A"
      },
      "source": [
        "Prod_details : Brief details about the product"
      ]
    },
    {
      "cell_type": "markdown",
      "metadata": {
        "id": "wpD8MrBvbuTQ"
      },
      "source": [
        "by_info : Product's Brand"
      ]
    },
    {
      "cell_type": "markdown",
      "metadata": {
        "id": "l-9_oAWPby4e"
      },
      "source": [
        "Product_price : Product's price"
      ]
    },
    {
      "cell_type": "markdown",
      "metadata": {
        "id": "HpCFJ1K3b7CG"
      },
      "source": [
        "rating : Product's overall customer rating"
      ]
    },
    {
      "cell_type": "markdown",
      "metadata": {
        "id": "eD_EQ9vqcAU1"
      },
      "source": [
        "total_review\t : Total no of customer reviews for that product"
      ]
    },
    {
      "cell_type": "markdown",
      "metadata": {
        "id": "YGId6W7GcPjn"
      },
      "source": [
        "ans_ask : No of questions answered"
      ]
    },
    {
      "cell_type": "markdown",
      "metadata": {
        "id": "j_1pVFcaceoU"
      },
      "source": [
        "feature : feature"
      ]
    },
    {
      "cell_type": "markdown",
      "metadata": {
        "id": "6QGirAHZciph"
      },
      "source": [
        "cust_review_pol : Polarity in Customer Reviews \n",
        "\n",
        "Polarity : lies between [-1,1], -1 defines a negative sentiment and 1 defines a positive sentiment."
      ]
    },
    {
      "cell_type": "markdown",
      "metadata": {
        "id": "MLhwdh-wdDe-"
      },
      "source": [
        "cust_review_sub : Subjectivity in Customer Reviews\n",
        "\n",
        "Subjectivity : quantifies the amount of personal opinion and factual information contained in the text. The higher subjectivity means that the text contains personal opinion rather than factual information."
      ]
    },
    {
      "cell_type": "markdown",
      "metadata": {
        "id": "N7uBcV7pZ7MG"
      },
      "source": [
        "# Save Dataset"
      ]
    },
    {
      "cell_type": "code",
      "metadata": {
        "id": "vfSHUbKjaB32"
      },
      "source": [
        "data.to_csv('Output.csv',index=False)"
      ],
      "execution_count": 29,
      "outputs": []
    },
    {
      "cell_type": "markdown",
      "metadata": {
        "id": "SeUx2YswaiA5"
      },
      "source": [
        "Checking Saved Output.csv"
      ]
    },
    {
      "cell_type": "code",
      "metadata": {
        "id": "E2wkSQiSaJa4",
        "outputId": "d1f0399f-8aaa-4bed-eac7-964997176332",
        "colab": {
          "base_uri": "https://localhost:8080/",
          "height": 279
        }
      },
      "source": [
        "data_new=pd.read_csv('Output.csv')\n",
        "data_new.head()"
      ],
      "execution_count": 33,
      "outputs": [
        {
          "output_type": "execute_result",
          "data": {
            "text/html": [
              "<div>\n",
              "<style scoped>\n",
              "    .dataframe tbody tr th:only-of-type {\n",
              "        vertical-align: middle;\n",
              "    }\n",
              "\n",
              "    .dataframe tbody tr th {\n",
              "        vertical-align: top;\n",
              "    }\n",
              "\n",
              "    .dataframe thead th {\n",
              "        text-align: right;\n",
              "    }\n",
              "</style>\n",
              "<table border=\"1\" class=\"dataframe\">\n",
              "  <thead>\n",
              "    <tr style=\"text-align: right;\">\n",
              "      <th></th>\n",
              "      <th>Prod_name</th>\n",
              "      <th>Prod_details</th>\n",
              "      <th>by_info</th>\n",
              "      <th>Product_price</th>\n",
              "      <th>rating</th>\n",
              "      <th>total_review</th>\n",
              "      <th>ans_ask</th>\n",
              "      <th>feature</th>\n",
              "      <th>cust_review_pol</th>\n",
              "      <th>cust_review_sub</th>\n",
              "    </tr>\n",
              "  </thead>\n",
              "  <tbody>\n",
              "    <tr>\n",
              "      <th>0</th>\n",
              "      <td>Samsung Galaxy M10</td>\n",
              "      <td>Ocean Blue, 3+32GB</td>\n",
              "      <td>Samsung</td>\n",
              "      <td>7990.0</td>\n",
              "      <td>4.0</td>\n",
              "      <td>7353</td>\n",
              "      <td>1000</td>\n",
              "      <td>13MP+5MP ultra-wide angle dual camera | 5MP f2...</td>\n",
              "      <td>0.196513</td>\n",
              "      <td>0.538780</td>\n",
              "    </tr>\n",
              "    <tr>\n",
              "      <th>1</th>\n",
              "      <td>Coolpad Cool 3 Plus</td>\n",
              "      <td>Ocean Blue, 2GB RAM, 16GB Storage</td>\n",
              "      <td>Coolpad</td>\n",
              "      <td>5999.0</td>\n",
              "      <td>3.1</td>\n",
              "      <td>76</td>\n",
              "      <td>69</td>\n",
              "      <td>13MP primary camera with bokeh mode, timelapse...</td>\n",
              "      <td>-0.116477</td>\n",
              "      <td>0.529867</td>\n",
              "    </tr>\n",
              "    <tr>\n",
              "      <th>2</th>\n",
              "      <td>Coolpad Cool 3 Plus</td>\n",
              "      <td>Ocean Blue, 3GB RAM, 32GB Storage</td>\n",
              "      <td>Coolpad</td>\n",
              "      <td>6499.0</td>\n",
              "      <td>3.1</td>\n",
              "      <td>76</td>\n",
              "      <td>69</td>\n",
              "      <td>13MP primary camera with bokeh mode, timelapse...</td>\n",
              "      <td>-0.116477</td>\n",
              "      <td>0.529867</td>\n",
              "    </tr>\n",
              "    <tr>\n",
              "      <th>3</th>\n",
              "      <td>Xifo I Smart IS-59I 4G Smartphone Model</td>\n",
              "      <td>Jio 4G Sim Not Supported</td>\n",
              "      <td>Xifo</td>\n",
              "      <td>3290.0</td>\n",
              "      <td>1.4</td>\n",
              "      <td>8</td>\n",
              "      <td>4</td>\n",
              "      <td>5.7-inch Full HD IPS Display, 1280x720 Pixels1...</td>\n",
              "      <td>-0.214000</td>\n",
              "      <td>0.458222</td>\n",
              "    </tr>\n",
              "    <tr>\n",
              "      <th>4</th>\n",
              "      <td>Redmi Y2</td>\n",
              "      <td>Black, 3GB RAM, 32GB Storage</td>\n",
              "      <td>Redmi</td>\n",
              "      <td>8440.0</td>\n",
              "      <td>4.3</td>\n",
              "      <td>26749</td>\n",
              "      <td>1000</td>\n",
              "      <td>Camera: 12+5 MP Dual rear camera | 16 MP front...</td>\n",
              "      <td>0.320134</td>\n",
              "      <td>0.513045</td>\n",
              "    </tr>\n",
              "  </tbody>\n",
              "</table>\n",
              "</div>"
            ],
            "text/plain": [
              "                                  Prod_name  ... cust_review_sub\n",
              "0                       Samsung Galaxy M10   ...        0.538780\n",
              "1                      Coolpad Cool 3 Plus   ...        0.529867\n",
              "2                      Coolpad Cool 3 Plus   ...        0.529867\n",
              "3  Xifo I Smart IS-59I 4G Smartphone Model   ...        0.458222\n",
              "4                                 Redmi Y2   ...        0.513045\n",
              "\n",
              "[5 rows x 10 columns]"
            ]
          },
          "metadata": {
            "tags": []
          },
          "execution_count": 33
        }
      ]
    },
    {
      "cell_type": "markdown",
      "metadata": {
        "id": "8tWGBzU-qtiG"
      },
      "source": [
        "# Plotting"
      ]
    },
    {
      "cell_type": "code",
      "metadata": {
        "id": "ZYuZ_L0ov8KE"
      },
      "source": [
        "top=data_new.by_info.value_counts().index"
      ],
      "execution_count": 34,
      "outputs": []
    },
    {
      "cell_type": "code",
      "metadata": {
        "id": "2kucCljDqsQn",
        "outputId": "deef63e6-c89f-4b01-de7b-c855eb9c398c",
        "colab": {
          "base_uri": "https://localhost:8080/",
          "height": 768
        }
      },
      "source": [
        "import matplotlib.pyplot as plt\n",
        "%matplotlib inline\n",
        "\n",
        "blist=['Samsung']\n",
        "\n",
        "for i in blist:\n",
        "  pltdata=data_new[data_new.by_info == i]\n",
        "  plt.plot(pltdata.Prod_name,pltdata.ans_ask)\n",
        "plt.xticks(rotation=90)\n",
        "plt.legend(blist)"
      ],
      "execution_count": 35,
      "outputs": [
        {
          "output_type": "execute_result",
          "data": {
            "text/plain": [
              "<matplotlib.legend.Legend at 0x7fbe5a93d6a0>"
            ]
          },
          "metadata": {
            "tags": []
          },
          "execution_count": 35
        },
        {
          "output_type": "display_data",
          "data": {
            "image/png": "[encoded data removed]",
            "text/plain": [
              "<Figure size 432x288 with 1 Axes>"
            ]
          },
          "metadata": {
            "tags": [],
            "needs_background": "light"
          }
        }
      ]
    },
    {
      "cell_type": "code",
      "metadata": {
        "id": "RIwbs1_-5QXp",
        "outputId": "6d5d7ff3-099a-404f-9e1d-614622b1c912",
        "colab": {
          "base_uri": "https://localhost:8080/",
          "height": 768
        }
      },
      "source": [
        "import matplotlib.pyplot as plt\n",
        "%matplotlib inline\n",
        "\n",
        "blist=['Samsung']\n",
        "\n",
        "for i in blist:\n",
        "  pltdata=data_new[data_new.by_info == i]\n",
        "  plt.bar(pltdata.Prod_name,pltdata.ans_ask)\n",
        "plt.xticks(rotation=90)\n",
        "plt.legend(blist)"
      ],
      "execution_count": 36,
      "outputs": [
        {
          "output_type": "execute_result",
          "data": {
            "text/plain": [
              "<matplotlib.legend.Legend at 0x7fbe40e64be0>"
            ]
          },
          "metadata": {
            "tags": []
          },
          "execution_count": 36
        },
        {
          "output_type": "display_data",
          "data": {
            "image/png": "[encoded data removed]",
            "text/plain": [
              "<Figure size 432x288 with 1 Axes>"
            ]
          },
          "metadata": {
            "tags": [],
            "needs_background": "light"
          }
        }
      ]
    },
    {
      "cell_type": "code",
      "metadata": {
        "id": "qWVi4ITo5sg7",
        "outputId": "c9bd9255-d597-45a4-cd68-828d41107e6b",
        "colab": {
          "base_uri": "https://localhost:8080/",
          "height": 364
        }
      },
      "source": [
        "import matplotlib.pyplot as plt\n",
        "%matplotlib inline\n",
        "\n",
        "plt.bar(top[:10],data_aggre.loc[top[:10]].ans_ask)\n",
        "plt.xticks(rotation=90)\n",
        "plt.ylabel('ans_ask')"
      ],
      "execution_count": null,
      "outputs": [
        {
          "output_type": "execute_result",
          "data": {
            "text/plain": [
              "Text(0, 0.5, 'ans_ask')"
            ]
          },
          "metadata": {
            "tags": []
          },
          "execution_count": 102
        },
        {
          "output_type": "display_data",
          "data": {
            "image/png": "[encoded data removed]",
            "text/plain": [
              "<Figure size 432x288 with 1 Axes>"
            ]
          },
          "metadata": {
            "tags": [],
            "needs_background": "light"
          }
        }
      ]
    },
    {
      "cell_type": "code",
      "metadata": {
        "id": "XX9-vYnb8DZj",
        "outputId": "add1a2ea-fec5-4f55-aaca-0f5da5f16012",
        "colab": {
          "base_uri": "https://localhost:8080/",
          "height": 361
        }
      },
      "source": [
        "import matplotlib.pyplot as plt\n",
        "%matplotlib inline\n",
        "\n",
        "plt.bar(top[:10],data_aggre.loc[top[:10]].rating)\n",
        "plt.xticks(rotation=90)\n",
        "plt.ylabel('Rating')"
      ],
      "execution_count": null,
      "outputs": [
        {
          "output_type": "execute_result",
          "data": {
            "text/plain": [
              "Text(0, 0.5, 'Rating')"
            ]
          },
          "metadata": {
            "tags": []
          },
          "execution_count": 103
        },
        {
          "output_type": "display_data",
          "data": {
            "image/png": "[encoded data removed]",
            "text/plain": [
              "<Figure size 432x288 with 1 Axes>"
            ]
          },
          "metadata": {
            "tags": [],
            "needs_background": "light"
          }
        }
      ]
    },
    {
      "cell_type": "code",
      "metadata": {
        "id": "nfKJjBmj8K8x",
        "outputId": "5061e43f-a78d-449d-b2af-e29f48b0b205",
        "colab": {
          "base_uri": "https://localhost:8080/",
          "height": 361
        }
      },
      "source": [
        "import matplotlib.pyplot as plt\n",
        "%matplotlib inline\n",
        "\n",
        "plt.bar(top[:10],data_aggre.loc[top[:10]].Product_price)\n",
        "plt.xticks(rotation=90)\n",
        "plt.ylabel('Product_price')"
      ],
      "execution_count": 41,
      "outputs": [
        {
          "output_type": "execute_result",
          "data": {
            "text/plain": [
              "Text(0, 0.5, 'Product_price')"
            ]
          },
          "metadata": {
            "tags": []
          },
          "execution_count": 41
        },
        {
          "output_type": "display_data",
          "data": {
            "image/png": "[encoded data removed]",
            "text/plain": [
              "<Figure size 432x288 with 1 Axes>"
            ]
          },
          "metadata": {
            "tags": [],
            "needs_background": "light"
          }
        }
      ]
    },
    {
      "cell_type": "code",
      "metadata": {
        "id": "g6mpuOdW8VOh"
      },
      "source": [
        "import matplotlib.pyplot as plt\n",
        "%matplotlib inline\n",
        "\n",
        "plt.bar(top[:10],data_aggre.loc[top[:10]].cust_review_pol)\n",
        "plt.xticks(rotation=90)\n",
        "plt.ylabel('cust_review_pol\t')"
      ],
      "execution_count": null,
      "outputs": []
    },
    {
      "cell_type": "code",
      "metadata": {
        "id": "7PF0yOSowNOc"
      },
      "source": [
        "data_aggre=data_new.groupby(by='by_info').mean()"
      ],
      "execution_count": 39,
      "outputs": []
    },
    {
      "cell_type": "code",
      "metadata": {
        "id": "vLvCi6RXuD0W",
        "outputId": "7fd80092-6686-4c11-f55b-e1653ed409e1",
        "colab": {
          "base_uri": "https://localhost:8080/",
          "height": 639
        }
      },
      "source": [
        "data_aggre.loc[top[:20]]"
      ],
      "execution_count": 40,
      "outputs": [
        {
          "output_type": "execute_result",
          "data": {
            "text/html": [
              "<div>\n",
              "<style scoped>\n",
              "    .dataframe tbody tr th:only-of-type {\n",
              "        vertical-align: middle;\n",
              "    }\n",
              "\n",
              "    .dataframe tbody tr th {\n",
              "        vertical-align: top;\n",
              "    }\n",
              "\n",
              "    .dataframe thead th {\n",
              "        text-align: right;\n",
              "    }\n",
              "</style>\n",
              "<table border=\"1\" class=\"dataframe\">\n",
              "  <thead>\n",
              "    <tr style=\"text-align: right;\">\n",
              "      <th></th>\n",
              "      <th>Product_price</th>\n",
              "      <th>rating</th>\n",
              "      <th>total_review</th>\n",
              "      <th>ans_ask</th>\n",
              "      <th>cust_review_pol</th>\n",
              "      <th>cust_review_sub</th>\n",
              "    </tr>\n",
              "  </thead>\n",
              "  <tbody>\n",
              "    <tr>\n",
              "      <th>Amazon Renewed</th>\n",
              "      <td>14468.543478</td>\n",
              "      <td>3.089130</td>\n",
              "      <td>17.478261</td>\n",
              "      <td>30.913043</td>\n",
              "      <td>0.211618</td>\n",
              "      <td>0.550691</td>\n",
              "    </tr>\n",
              "    <tr>\n",
              "      <th>Samsung</th>\n",
              "      <td>8121.675000</td>\n",
              "      <td>3.942500</td>\n",
              "      <td>3213.000000</td>\n",
              "      <td>471.175000</td>\n",
              "      <td>0.244762</td>\n",
              "      <td>0.503429</td>\n",
              "    </tr>\n",
              "    <tr>\n",
              "      <th>IKALL</th>\n",
              "      <td>960.410256</td>\n",
              "      <td>2.443590</td>\n",
              "      <td>43.333333</td>\n",
              "      <td>26.333333</td>\n",
              "      <td>0.005121</td>\n",
              "      <td>0.577061</td>\n",
              "    </tr>\n",
              "    <tr>\n",
              "      <th>JBL</th>\n",
              "      <td>2650.666667</td>\n",
              "      <td>3.794872</td>\n",
              "      <td>3729.512821</td>\n",
              "      <td>425.615385</td>\n",
              "      <td>0.229170</td>\n",
              "      <td>0.514325</td>\n",
              "    </tr>\n",
              "    <tr>\n",
              "      <th>Panasonic</th>\n",
              "      <td>3974.685714</td>\n",
              "      <td>3.565714</td>\n",
              "      <td>332.142857</td>\n",
              "      <td>109.171429</td>\n",
              "      <td>0.167534</td>\n",
              "      <td>0.514645</td>\n",
              "    </tr>\n",
              "    <tr>\n",
              "      <th>Sony</th>\n",
              "      <td>3092.090909</td>\n",
              "      <td>3.933333</td>\n",
              "      <td>1409.939394</td>\n",
              "      <td>517.575758</td>\n",
              "      <td>0.201937</td>\n",
              "      <td>0.513514</td>\n",
              "    </tr>\n",
              "    <tr>\n",
              "      <th>Boat</th>\n",
              "      <td>1067.343750</td>\n",
              "      <td>4.037500</td>\n",
              "      <td>12124.031250</td>\n",
              "      <td>671.687500</td>\n",
              "      <td>0.224779</td>\n",
              "      <td>0.534802</td>\n",
              "    </tr>\n",
              "    <tr>\n",
              "      <th>Micromax</th>\n",
              "      <td>2685.300000</td>\n",
              "      <td>3.146667</td>\n",
              "      <td>91.466667</td>\n",
              "      <td>75.766667</td>\n",
              "      <td>0.132226</td>\n",
              "      <td>0.485353</td>\n",
              "    </tr>\n",
              "    <tr>\n",
              "      <th>Nokia</th>\n",
              "      <td>8066.296296</td>\n",
              "      <td>3.303704</td>\n",
              "      <td>288.962963</td>\n",
              "      <td>205.740741</td>\n",
              "      <td>0.181257</td>\n",
              "      <td>0.481390</td>\n",
              "    </tr>\n",
              "    <tr>\n",
              "      <th>Mi</th>\n",
              "      <td>6230.916667</td>\n",
              "      <td>3.937500</td>\n",
              "      <td>5536.750000</td>\n",
              "      <td>494.583333</td>\n",
              "      <td>0.170840</td>\n",
              "      <td>0.521250</td>\n",
              "    </tr>\n",
              "    <tr>\n",
              "      <th>Lava</th>\n",
              "      <td>3644.869565</td>\n",
              "      <td>3.830435</td>\n",
              "      <td>150.000000</td>\n",
              "      <td>109.173913</td>\n",
              "      <td>0.281268</td>\n",
              "      <td>0.522845</td>\n",
              "    </tr>\n",
              "    <tr>\n",
              "      <th>AmazonBasics</th>\n",
              "      <td>510.913043</td>\n",
              "      <td>3.969565</td>\n",
              "      <td>1431.173913</td>\n",
              "      <td>201.391304</td>\n",
              "      <td>0.149057</td>\n",
              "      <td>0.485008</td>\n",
              "    </tr>\n",
              "    <tr>\n",
              "      <th>KECHAODA</th>\n",
              "      <td>982.391304</td>\n",
              "      <td>3.865217</td>\n",
              "      <td>40.608696</td>\n",
              "      <td>62.217391</td>\n",
              "      <td>0.272268</td>\n",
              "      <td>0.495993</td>\n",
              "    </tr>\n",
              "    <tr>\n",
              "      <th>SanDisk</th>\n",
              "      <td>1985.277778</td>\n",
              "      <td>4.200000</td>\n",
              "      <td>6711.833333</td>\n",
              "      <td>640.888889</td>\n",
              "      <td>0.188172</td>\n",
              "      <td>0.532206</td>\n",
              "    </tr>\n",
              "    <tr>\n",
              "      <th>Beetel</th>\n",
              "      <td>1269.117647</td>\n",
              "      <td>3.741176</td>\n",
              "      <td>100.117647</td>\n",
              "      <td>36.235294</td>\n",
              "      <td>0.179952</td>\n",
              "      <td>0.451770</td>\n",
              "    </tr>\n",
              "    <tr>\n",
              "      <th>HP</th>\n",
              "      <td>1930.062500</td>\n",
              "      <td>3.650000</td>\n",
              "      <td>882.625000</td>\n",
              "      <td>317.625000</td>\n",
              "      <td>0.197865</td>\n",
              "      <td>0.560164</td>\n",
              "    </tr>\n",
              "    <tr>\n",
              "      <th>Generic</th>\n",
              "      <td>503.000000</td>\n",
              "      <td>3.643750</td>\n",
              "      <td>13.125000</td>\n",
              "      <td>13.312500</td>\n",
              "      <td>0.233367</td>\n",
              "      <td>0.535325</td>\n",
              "    </tr>\n",
              "    <tr>\n",
              "      <th>Motorola</th>\n",
              "      <td>4554.000000</td>\n",
              "      <td>3.640000</td>\n",
              "      <td>2877.800000</td>\n",
              "      <td>233.933333</td>\n",
              "      <td>0.145897</td>\n",
              "      <td>0.570512</td>\n",
              "    </tr>\n",
              "    <tr>\n",
              "      <th>Oppo</th>\n",
              "      <td>11845.571429</td>\n",
              "      <td>3.935714</td>\n",
              "      <td>396.071429</td>\n",
              "      <td>315.857143</td>\n",
              "      <td>0.433612</td>\n",
              "      <td>0.591945</td>\n",
              "    </tr>\n",
              "    <tr>\n",
              "      <th>TP-Link</th>\n",
              "      <td>1945.230769</td>\n",
              "      <td>4.046154</td>\n",
              "      <td>5161.230769</td>\n",
              "      <td>664.846154</td>\n",
              "      <td>0.141534</td>\n",
              "      <td>0.489494</td>\n",
              "    </tr>\n",
              "  </tbody>\n",
              "</table>\n",
              "</div>"
            ],
            "text/plain": [
              "                Product_price    rating  ...  cust_review_pol  cust_review_sub\n",
              "Amazon Renewed   14468.543478  3.089130  ...         0.211618         0.550691\n",
              "Samsung           8121.675000  3.942500  ...         0.244762         0.503429\n",
              "IKALL              960.410256  2.443590  ...         0.005121         0.577061\n",
              "JBL               2650.666667  3.794872  ...         0.229170         0.514325\n",
              "Panasonic         3974.685714  3.565714  ...         0.167534         0.514645\n",
              "Sony              3092.090909  3.933333  ...         0.201937         0.513514\n",
              "Boat              1067.343750  4.037500  ...         0.224779         0.534802\n",
              "Micromax          2685.300000  3.146667  ...         0.132226         0.485353\n",
              "Nokia             8066.296296  3.303704  ...         0.181257         0.481390\n",
              "Mi                6230.916667  3.937500  ...         0.170840         0.521250\n",
              "Lava              3644.869565  3.830435  ...         0.281268         0.522845\n",
              "AmazonBasics       510.913043  3.969565  ...         0.149057         0.485008\n",
              "KECHAODA           982.391304  3.865217  ...         0.272268         0.495993\n",
              "SanDisk           1985.277778  4.200000  ...         0.188172         0.532206\n",
              "Beetel            1269.117647  3.741176  ...         0.179952         0.451770\n",
              "HP                1930.062500  3.650000  ...         0.197865         0.560164\n",
              "Generic            503.000000  3.643750  ...         0.233367         0.535325\n",
              "Motorola          4554.000000  3.640000  ...         0.145897         0.570512\n",
              "Oppo             11845.571429  3.935714  ...         0.433612         0.591945\n",
              "TP-Link           1945.230769  4.046154  ...         0.141534         0.489494\n",
              "\n",
              "[20 rows x 6 columns]"
            ]
          },
          "metadata": {
            "tags": []
          },
          "execution_count": 40
        }
      ]
    },
    {
      "cell_type": "code",
      "metadata": {
        "id": "jHEnhJYP1dCA"
      },
      "source": [
        ""
      ],
      "execution_count": null,
      "outputs": []
    }
  ]
}
